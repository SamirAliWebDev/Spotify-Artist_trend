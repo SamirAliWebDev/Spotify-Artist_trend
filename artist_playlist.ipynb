{
 "cells": [
  {
   "cell_type": "code",
   "execution_count": 54,
   "metadata": {},
   "outputs": [],
   "source": [
    "import numpy as np\n",
    "import pandas as pd\n",
    "from datasets import load_dataset\n",
    "import seaborn as sns\n",
    "import matplotlib.pyplot as plt\n",
    "\n",
    "df = pd.read_csv('D:\\python practice/Data Analytics/Real Dataset Practice/Spotify customers/spotify-2023.csv',encoding='latin1')"
   ]
  },
  {
   "cell_type": "code",
   "execution_count": 55,
   "metadata": {},
   "outputs": [],
   "source": [
    "df_t = df.copy()"
   ]
  },
  {
   "cell_type": "code",
   "execution_count": 56,
   "metadata": {},
   "outputs": [],
   "source": [
    "df_t = df_t.dropna(subset=['released_year','released_month','released_day'])"
   ]
  },
  {
   "cell_type": "code",
   "execution_count": 79,
   "metadata": {},
   "outputs": [],
   "source": [
    "#converting released years to integer datatype\n",
    "df_t['released_year'] = df_t['released_year'].astype(int)\n",
    "df_t['released_month'] = df_t['released_month'].astype(int)\n",
    "df_t['released_day'] = df_t['released_day'].astype(int)\n"
   ]
  },
  {
   "cell_type": "code",
   "execution_count": 80,
   "metadata": {},
   "outputs": [
    {
     "name": "stdout",
     "output_type": "stream",
     "text": [
      "   released_year  released_month  released_day\n",
      "0           2023               7            14\n",
      "1           2023               3            23\n",
      "2           2023               6            30\n",
      "3           2019               8            23\n",
      "4           2023               5            18\n"
     ]
    }
   ],
   "source": [
    "print(df_t[['released_year', 'released_month', 'released_day']].head())"
   ]
  },
  {
   "cell_type": "code",
   "execution_count": 95,
   "metadata": {},
   "outputs": [],
   "source": [
    "df_t['release_date'] = pd.to_datetime({\n",
    "    'year': df_t['released_year'],\n",
    "    'month': df_t['released_month'],\n",
    "    'day': df_t['released_day']\n",
    "})"
   ]
  },
  {
   "cell_type": "code",
   "execution_count": 98,
   "metadata": {},
   "outputs": [],
   "source": [
    "df_t['month'] = df_t['release_date'].dt.to_period('M')\n",
    "df_t = df_t[df_t['release_date'].dt.year == 2023]  # Filter to just year 2023"
   ]
  },
  {
   "cell_type": "code",
   "execution_count": 106,
   "metadata": {},
   "outputs": [],
   "source": [
    "monthly_summary = df_t.groupby('month').agg({\n",
    "    'artist(s)_name': pd.Series.nunique,\n",
    "    'track_name' : 'count'\n",
    "}).rename(columns={\n",
    "    'artist(s)_name': 'Unique Artists',\n",
    "    'track_name': 'Songs Added'\n",
    "}).reset_index()"
   ]
  },
  {
   "cell_type": "code",
   "execution_count": 108,
   "metadata": {},
   "outputs": [],
   "source": [
    "monthly_summary.columns = ['Month', 'Unique Artists', 'Songs Added']    \n",
    "monthly_summary['Month'] = monthly_summary['Month'].astype(str)"
   ]
  },
  {
   "cell_type": "code",
   "execution_count": 118,
   "metadata": {},
   "outputs": [],
   "source": [
    "monthly_melted = monthly_summary.melt(id_vars='Month', var_name='Metric', value_name='Count')"
   ]
  },
  {
   "cell_type": "code",
   "execution_count": 120,
   "metadata": {},
   "outputs": [
    {
     "data": {
      "text/plain": [
       "<Axes: xlabel='Month', ylabel='Count'>"
      ]
     },
     "execution_count": 120,
     "metadata": {},
     "output_type": "execute_result"
    },
    {
     "data": {
      "image/png": "[encoded data removed]",
      "text/plain": [
       "<Figure size 640x480 with 1 Axes>"
      ]
     },
     "metadata": {},
     "output_type": "display_data"
    }
   ],
   "source": [
    "sns.barplot(data=monthly_melted, x='Month', y='Count', hue='Metric')"
   ]
  },
  {
   "cell_type": "code",
   "execution_count": null,
   "metadata": {},
   "outputs": [],
   "source": []
  }
 ],
 "metadata": {
  "kernelspec": {
   "display_name": "project_pr",
   "language": "python",
   "name": "python3"
  },
  "language_info": {
   "codemirror_mode": {
    "name": "ipython",
    "version": 3
   },
   "file_extension": ".py",
   "mimetype": "text/x-python",
   "name": "python",
   "nbconvert_exporter": "python",
   "pygments_lexer": "ipython3",
   "version": "3.11.13"
  }
 },
 "nbformat": 4,
 "nbformat_minor": 2
}
